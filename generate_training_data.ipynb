{
 "cells": [
  {
   "cell_type": "code",
   "execution_count": 1,
   "metadata": {
    "collapsed": true,
    "pycharm": {
     "name": "#%%\n"
    }
   },
   "outputs": [],
   "source": [
    "import dynamics as dn\n",
    "import numpy as np\n",
    "import jax\n",
    "import jax.numpy as jnp\n",
    "from pykep.core import par2ic, MU_EARTH\n",
    "import pandas as pd"
   ]
  },
  {
   "cell_type": "code",
   "execution_count": 2,
   "outputs": [
    {
     "name": "stderr",
     "output_type": "stream",
     "text": [
      "WARNING:absl:No GPU/TPU found, falling back to CPU. (Set TF_CPP_MIN_LOG_LEVEL=0 and rerun for more info.)\n"
     ]
    }
   ],
   "source": [
    "# data range\n",
    "R_EARTH = 6378\n",
    "DEG = np.pi/180\n",
    "\n",
    "# 1st row shows the min, 2nd row shows the max\n",
    "#                           a,          e,    i,   W,  w , E\n",
    "init_oe_range = np.array([[6378 + 250, 0.0001, 0.4,  0, 0, 0],\n",
    "                           [6378 + 350, 0.003, 0.8, 2*np.pi, 2*np.pi, 2* np.pi]\n",
    "                           ])\n",
    "# x, y, z, vx, vy, vz\n",
    "init_rel_rv_range = np.array([[0, 0, 0, 0, 0, 0],\n",
    "                               [10, 10, 10, 0.1, 0.1, 0.1]])\n",
    "\n",
    "# u_range\n",
    "min_T = 25e-3  # N\n",
    "max_T = 250e-3  #N\n",
    "mass = 100  # kg\n",
    "u_range = np.array([[min_T/mass/1000, min_T/mass/1000,  min_T/mass/1000],\n",
    "                    [max_T/mass/1000, max_T/mass/1000, max_T/mass/1000]])  # Km/s^2\n",
    "\n",
    "# parameter range\n",
    "p = jnp.zeros(3)\n",
    "max_psi = 5 * jnp.pi / 180   # 5 deg\n",
    "C_D = 1.5   # []\n",
    "C_SRP = 1.5  # []\n",
    "A = 1.0  # m^2\n",
    "m = 100   # kg\n",
    "gamma_SRP_nominal = C_SRP * A / m\n",
    "gamma_D_nominal = C_D * A / m\n",
    "param_range = np.array([[0.5 * gamma_SRP_nominal, 0.5 * gamma_D_nominal, 0.0],\n",
    "                        [1.5 * gamma_SRP_nominal, 1.5 * gamma_D_nominal, max_psi]])\n",
    "\n",
    "# n_sample\n",
    "n_sample = 1000000\n"
   ],
   "metadata": {
    "collapsed": false,
    "pycharm": {
     "name": "#%%\n"
    }
   }
  },
  {
   "cell_type": "markdown",
   "source": [],
   "metadata": {
    "collapsed": false,
    "pycharm": {
     "name": "#%% md\n"
    }
   }
  },
  {
   "cell_type": "code",
   "execution_count": 3,
   "outputs": [
    {
     "name": "stdout",
     "output_type": "stream",
     "text": [
      "finished!\n"
     ]
    }
   ],
   "source": [
    "# Generate test data\n",
    "datasets = dn.generate_data(init_oe_range, init_rel_rv_range, u_range, param_range, n_sample)\n",
    "print(\"finished!\")"
   ],
   "metadata": {
    "collapsed": false,
    "pycharm": {
     "name": "#%%\n"
    }
   }
  },
  {
   "cell_type": "code",
   "execution_count": 4,
   "outputs": [],
   "source": [
    "import pandas as pd\n",
    "\n",
    "datalabels = [\"x\", \"y\", \"z\", \"vx\", \"vy\", \"vz\", \"gamma_srp\", \"gamma_D\", \"psi\",\n",
    "              \"ref_x\", \"ref_y\", \"ref_z\", \"ref_vx\", \"ref_vy\", \"ref_vz\", \"t\",\n",
    "              \"srp_x\", \"srp_y\", \"srp_z\", \"drag_x\", \"drag_y\", \"drag_z\"\n",
    "              ]\n",
    "\n",
    "df = pd.DataFrame(datasets, columns=datalabels)\n",
    "df.to_csv(\"training_data.csv\")"
   ],
   "metadata": {
    "collapsed": false,
    "pycharm": {
     "name": "#%%\n"
    }
   }
  }
 ],
 "metadata": {
  "kernelspec": {
   "name": "pycharm-7d4848dc",
   "language": "python",
   "display_name": "PyCharm (gecco-spoc)"
  },
  "language_info": {
   "codemirror_mode": {
    "name": "ipython",
    "version": 2
   },
   "file_extension": ".py",
   "mimetype": "text/x-python",
   "name": "python",
   "nbconvert_exporter": "python",
   "pygments_lexer": "ipython2",
   "version": "2.7.6"
  }
 },
 "nbformat": 4,
 "nbformat_minor": 0
}