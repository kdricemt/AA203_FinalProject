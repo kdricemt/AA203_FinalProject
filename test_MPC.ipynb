{
 "cells": [
  {
   "cell_type": "code",
   "execution_count": 1,
   "metadata": {
    "collapsed": true,
    "pycharm": {
     "name": "#%%\n"
    }
   },
   "outputs": [
    {
     "name": "stderr",
     "output_type": "stream",
     "text": [
      "WARNING:absl:No GPU/TPU found, falling back to CPU. (Set TF_CPP_MIN_LOG_LEVEL=0 and rerun for more info.)\n"
     ]
    }
   ],
   "source": [
    "# Test MPC\n",
    "\n",
    "# Standard imports for SCP via JAX and CVXPY\n",
    "import numpy as np # CVXPY uses numpy\n",
    "import cvxpy as cvx # For Convex Optimization\n",
    "from cvxpy.constraints import constraint\n",
    "import jax # For computing gradients and JIT\n",
    "import jax.numpy as jnp\n",
    "from tqdm import tqdm # For progress bars\n",
    "from functools import partial # For helping JAX\n",
    "\n",
    "# Assessment\n",
    "import time\n",
    "import matplotlib.pyplot as plt\n",
    "import scipy.interpolate\n",
    "import scipy.optimize\n",
    "\n",
    "import dynamics as dn\n",
    "import control as ct"
   ]
  },
  {
   "cell_type": "markdown",
   "source": [
    "## Common Parameters"
   ],
   "metadata": {
    "collapsed": false,
    "pycharm": {
     "name": "#%% md\n"
    }
   }
  },
  {
   "cell_type": "code",
   "execution_count": 2,
   "outputs": [],
   "source": [
    "import pykep\n",
    "# SPACECRAFT PARAMETERS\n",
    "C_D = 1.5 # Dimensionless\n",
    "C_SRP = 1.5 # Dimensionless\n",
    "\n",
    "A = 1.0   # m^2\n",
    "MASS_SAT = 100   # kg\n",
    "\n",
    "GAMMA_SRP = C_SRP * A / MASS_SAT\n",
    "GAMMA_DRAG = C_D * A / MASS_SAT\n",
    "\n",
    "PSI = 0    # thermal oscillation\n",
    "\n",
    "R_EARTH = 6378\n",
    "MU_EARTH_KM = pykep.MU_EARTH * 1e-9\n",
    "EARTH_TO_SUN_VEC = dn.compute_earth_to_sun()\n"
   ],
   "metadata": {
    "collapsed": false,
    "pycharm": {
     "name": "#%%\n"
    }
   }
  },
  {
   "cell_type": "markdown",
   "source": [
    "## Spacecraft Initial States"
   ],
   "metadata": {
    "collapsed": false,
    "pycharm": {
     "name": "#%% md\n"
    }
   }
  },
  {
   "cell_type": "code",
   "execution_count": 3,
   "outputs": [
    {
     "name": "stdout",
     "output_type": "stream",
     "text": [
      "Should be small but not zero = [0.0000000e+00 1.9720386e-05 2.2597262e-06 1.1022827e-05 2.1499252e-05\n",
      " 6.0905495e-06]\n",
      "Should be uniformly zero = [0. 0. 0. 0. 0. 0.]\n"
     ]
    }
   ],
   "source": [
    "# Initial condition of reference orbit\n",
    "h = 300  # km  height for perigee\n",
    "e = 0.001\n",
    "a = (R_EARTH + h) / (1 - e)\n",
    "i = 0.6\n",
    "W = 0\n",
    "w = 0\n",
    "E = 0\n",
    "\n",
    "# satellite initial condition\n",
    "dr = np.array([1.2e-5, 1.5e-5, 1.3e-5])   # relative position vector to ref\n",
    "dv = np.array([1.1e-5, 1.4e-5, 1.7e-5])  # relative velocity to ref\n",
    "\n",
    "# orbital period\n",
    "T = 2 * jnp.pi * jnp.sqrt(a**3/MU_EARTH_KM)\n",
    "\n",
    "# compute orbit elements\n",
    "oe_chief = np.array([a, e, i, W, w, E])\n",
    "r0_chief, v0_chief = pykep.core.par2ic(oe_chief, MU_EARTH_KM)\n",
    "r0_sat, v0_sat = r0_chief + dr, v0_chief + dv\n",
    "\n",
    "# convert to JAX array\n",
    "x0_chief_eci = jnp.array(np.hstack([r0_chief, v0_chief]))\n",
    "x0_sat_eci = jnp.array(np.hstack([r0_sat, v0_sat]))\n",
    "\n",
    "# Initial  States\n",
    "s0_rel_sat = jnp.hstack([dn.eci_to_lvlh(x0_chief_eci, x0_sat_eci)])\n",
    "print(f\"Should be small but not zero = {s0_rel_sat}\")\n",
    "s0_rel_chief = jnp.hstack([dn.eci_to_lvlh(x0_chief_eci, x0_chief_eci)])\n",
    "print(f\"Should be uniformly zero = {s0_rel_chief}\")"
   ],
   "metadata": {
    "collapsed": false,
    "pycharm": {
     "name": "#%%\n"
    }
   }
  },
  {
   "cell_type": "markdown",
   "source": [
    "## Time Propagation Settings"
   ],
   "metadata": {
    "collapsed": false,
    "pycharm": {
     "name": "#%% md\n"
    }
   }
  },
  {
   "cell_type": "code",
   "execution_count": 4,
   "outputs": [
    {
     "name": "stdout",
     "output_type": "stream",
     "text": [
      "Tspan size: 13598\n"
     ]
    }
   ],
   "source": [
    "# Propagation time settings\n",
    "dt = 0.01\n",
    "tspan_quarter_periods = np.arange(0, 0.025 * T, dt)   # propagation step\n",
    "print(f\"Tspan size: {tspan_quarter_periods.size}\")"
   ],
   "metadata": {
    "collapsed": false,
    "pycharm": {
     "name": "#%%\n"
    }
   }
  },
  {
   "cell_type": "markdown",
   "source": [
    "## JIT Dynamics Functions"
   ],
   "metadata": {
    "collapsed": false,
    "pycharm": {
     "name": "#%% md\n"
    }
   }
  },
  {
   "cell_type": "code",
   "execution_count": 5,
   "outputs": [],
   "source": [
    "# JIT the dynamics functions\n",
    "t = 0  # we can assume this because there is no change in the parameters\n",
    "fd_absolute = jax.jit(ct.discretize(ct.absolute_dynamics, dt))\n",
    "\n",
    "x_chief_eci_traj = ct.propagate_absolute_from_control(x0_chief_eci, ct.zero_control, tspan_quarter_periods, fd_absolute)\n",
    "\n",
    "interp_abs_chief_jit = jax.jit(ct.interp_fixed(tspan_quarter_periods, x_chief_eci_traj[:, :-1]))\n",
    "fd_relative_4T = jax.jit(ct.discretize(ct.relative_dynamics, dt, params=(GAMMA_SRP, GAMMA_DRAG, PSI), state_eci_ref_func=interp_abs_chief_jit))"
   ],
   "metadata": {
    "collapsed": false,
    "pycharm": {
     "name": "#%%\n"
    }
   }
  },
  {
   "cell_type": "markdown",
   "source": [
    "## Control Constraints"
   ],
   "metadata": {
    "collapsed": false,
    "pycharm": {
     "name": "#%% md\n"
    }
   }
  },
  {
   "cell_type": "code",
   "execution_count": 6,
   "outputs": [
    {
     "name": "stdout",
     "output_type": "stream",
     "text": [
      "umax [m/s]: 0.025\n"
     ]
    }
   ],
   "source": [
    "# Test optimizing with scipy minimize\n",
    "min_T = -250e-2  # N\n",
    "max_T = 250e-2  # N\n",
    "\n",
    "u_min = min_T/MASS_SAT  # m/s^2\n",
    "u_max = max_T/MASS_SAT  #m/s^2\n",
    "\n",
    "print(\"umax [m/s]:\", u_max)"
   ],
   "metadata": {
    "collapsed": false,
    "pycharm": {
     "name": "#%%\n"
    }
   }
  },
  {
   "cell_type": "markdown",
   "source": [
    "## Try Sequential Convex Programming"
   ],
   "metadata": {
    "collapsed": false,
    "pycharm": {
     "name": "#%% md\n"
    }
   }
  },
  {
   "cell_type": "code",
   "execution_count": 10,
   "outputs": [
    {
     "name": "stdout",
     "output_type": "stream",
     "text": [
      "Horizon is 40 steps\n",
      "ITERATION FAILED!! message is:\n",
      "\n",
      " Solver 'OSQP' failed. Try another solver, or solve with verbose=True for more information.\n",
      "===============================================================================\n",
      "                                     CVXPY                                     \n",
      "                                     v1.2.1                                    \n",
      "===============================================================================\n",
      "(CVXPY) May 31 12:15:23 PM: Your problem has 366 variables, 43 constraints, and 0 parameters.\n",
      "(CVXPY) May 31 12:15:23 PM: It is compliant with the following grammars: DCP, DQCP\n",
      "(CVXPY) May 31 12:15:23 PM: (If you need to solve this problem multiple times, but with different data, consider using parameters.)\n",
      "(CVXPY) May 31 12:15:23 PM: CVXPY will first compile your problem; then, it will invoke a numerical solver to obtain a solution.\n",
      "-------------------------------------------------------------------------------\n",
      "                                  Compilation                                  \n",
      "-------------------------------------------------------------------------------\n",
      "(CVXPY) May 31 12:15:23 PM: Using cached ASA map, for faster compilation (bypassing reduction chain).\n",
      "(CVXPY) May 31 12:15:23 PM: Finished problem compilation (took 9.066e-03 seconds).\n",
      "-------------------------------------------------------------------------------\n",
      "                                Numerical solver                               \n",
      "-------------------------------------------------------------------------------\n",
      "(CVXPY) May 31 12:15:23 PM: Invoking solver OSQP  to obtain a solution.\n",
      "iter   objective    pri res    dua res    rho        time\n",
      "   1   6.3320e+00   6.26e-06   3.15e-06   2.10e-01   1.07e-03s\n",
      "  25   6.3320e+00   6.26e-06   3.15e-06   2.10e-01   2.50e-03s\n",
      "\n",
      "status:               solved\n",
      "solution polish:      unsuccessful\n",
      "number of iterations: 25\n",
      "optimal objective:    6.3320\n",
      "run time:             3.63e-03s\n",
      "optimal rho estimate: 2.10e-01\n",
      "\n",
      "-------------------------------------------------------------------------------\n",
      "                                    Summary                                    \n",
      "-------------------------------------------------------------------------------\n",
      "(CVXPY) May 31 12:15:23 PM: Problem status: optimal\n",
      "(CVXPY) May 31 12:15:23 PM: Optimal value: 6.385e+00\n",
      "(CVXPY) May 31 12:15:23 PM: Compilation took 9.066e-03 seconds\n",
      "(CVXPY) May 31 12:15:23 PM: Solver (including time spent in interface) took 5.138e-03 seconds\n",
      "iteration0 objective change: inf\n"
     ]
    },
    {
     "name": "stderr",
     "output_type": "stream",
     "text": [
      "/Users/keidaiiiyama/opt/anaconda3/envs/geccoenv/lib/python3.8/site-packages/cvxpy/problems/problem.py:1337: UserWarning: Solution may be inaccurate. Try another solver, adjusting the solver settings, or solve with verbose=True for more information.\n",
      "  warnings.warn(\n"
     ]
    },
    {
     "name": "stdout",
     "output_type": "stream",
     "text": [
      "Optimal Inaccurate iteration\n",
      "iteration1 objective change: inf\n",
      "ITERATION FAILED!! message is:\n",
      "\n",
      " Solver 'OSQP' failed. Try another solver, or solve with verbose=True for more information.\n",
      "===============================================================================\n",
      "                                     CVXPY                                     \n",
      "                                     v1.2.1                                    \n",
      "===============================================================================\n",
      "(CVXPY) May 31 12:16:53 PM: Your problem has 366 variables, 83 constraints, and 0 parameters.\n",
      "(CVXPY) May 31 12:16:53 PM: It is compliant with the following grammars: DCP, DQCP\n",
      "(CVXPY) May 31 12:16:53 PM: (If you need to solve this problem multiple times, but with different data, consider using parameters.)\n",
      "(CVXPY) May 31 12:16:53 PM: CVXPY will first compile your problem; then, it will invoke a numerical solver to obtain a solution.\n",
      "-------------------------------------------------------------------------------\n",
      "                                  Compilation                                  \n",
      "-------------------------------------------------------------------------------\n",
      "(CVXPY) May 31 12:16:53 PM: Using cached ASA map, for faster compilation (bypassing reduction chain).\n",
      "(CVXPY) May 31 12:16:53 PM: Finished problem compilation (took 9.114e-03 seconds).\n",
      "-------------------------------------------------------------------------------\n",
      "                                Numerical solver                               \n",
      "-------------------------------------------------------------------------------\n",
      "(CVXPY) May 31 12:16:53 PM: Invoking solver OSQP  to obtain a solution.\n",
      "iter   objective    pri res    dua res    rho        time\n",
      "   1   4.1259e+00   2.62e-05   1.01e-03   1.70e+00   7.19e-04s\n",
      "  25   4.1258e+00   2.40e-04   4.77e-04   1.70e+00   1.95e-03s\n",
      "\n",
      "status:               solved\n",
      "solution polish:      unsuccessful\n",
      "number of iterations: 25\n",
      "optimal objective:    4.1258\n",
      "run time:             2.65e-03s\n",
      "optimal rho estimate: 4.80e+00\n",
      "\n",
      "-------------------------------------------------------------------------------\n",
      "                                    Summary                                    \n",
      "-------------------------------------------------------------------------------\n",
      "(CVXPY) May 31 12:16:53 PM: Problem status: optimal\n",
      "(CVXPY) May 31 12:16:53 PM: Optimal value: 4.208e+00\n",
      "(CVXPY) May 31 12:16:53 PM: Compilation took 9.114e-03 seconds\n",
      "(CVXPY) May 31 12:16:53 PM: Solver (including time spent in interface) took 4.127e-03 seconds\n",
      "iteration2 objective change: 3.44410\n",
      "Optimal Inaccurate iteration\n",
      "iteration3 objective change: 0.52333\n",
      "Optimal Inaccurate iteration\n",
      "iteration4 objective change: 0.04309\n",
      "SCP converged after 4 iterations.\n",
      "\n",
      "\n",
      " Shapes: s=(41, 6) and (40, 3)\n"
     ]
    }
   ],
   "source": [
    "# SCP parameters\n",
    "P_outer = 1e10 * np.eye(6)                    # terminal state cost matrix\n",
    "Q_outer = 1e7 * np.eye(6)                    # state cost matrix\n",
    "rho_outer = 1.                               # trust region parameter\n",
    "u_max_outer = u_max                          # control effort bound\n",
    "tol = 5e-1                           # convergence tolerance\n",
    "max_iters = 10                       # maximum number of SCP iterations\n",
    "u_dim_outer = 3\n",
    "\n",
    "# Solve the satellite tracking problem with SCP\n",
    "N_horizon = 40\n",
    "t_scp = np.arange(0, (N_horizon + 1) * dt, dt)\n",
    "N_horizon = t_scp.size - 1\n",
    "print(f\"Horizon is {N_horizon} steps\")\n",
    "s_scp, u_scp = ct.solve_satellite_scp(fd_relative_4T, t_scp, P_outer, Q_outer, N_horizon, s0_rel_sat,\n",
    "                           u_max_outer, rho_outer, tol, max_iters, u_dim_outer)\n",
    "\n",
    "print(f\"\\n\\n Shapes: s={s_scp.shape} and {u_scp.shape}\")"
   ],
   "metadata": {
    "collapsed": false,
    "pycharm": {
     "name": "#%%\n"
    }
   }
  },
  {
   "cell_type": "markdown",
   "source": [
    "## Finally, Run MPC"
   ],
   "metadata": {
    "collapsed": false,
    "pycharm": {
     "name": "#%% md\n"
    }
   }
  },
  {
   "cell_type": "code",
   "execution_count": null,
   "outputs": [],
   "source": [
    "N_total_mpc = 50\n",
    "t_last_mpc = N_total_mpc * dt\n",
    "N_horizon_mpc = 10\n",
    "t_mpc, s_mpc, u_mpc = ct.run_MPC(s0_rel_sat, t_last_mpc, N_horizon_mpc,\n",
    "                              P_outer, Q_outer, u_max, rho_outer,\n",
    "                              tol, max_iters, u_dim_outer, dt, fd_relative_4T)"
   ],
   "metadata": {
    "collapsed": false,
    "pycharm": {
     "name": "#%%\n"
    }
   }
  },
  {
   "cell_type": "markdown",
   "source": [
    "## Plot results"
   ],
   "metadata": {
    "collapsed": false,
    "pycharm": {
     "name": "#%% md\n"
    }
   }
  },
  {
   "cell_type": "code",
   "execution_count": null,
   "outputs": [],
   "source": [
    "ct.plot_mpc_control(t_mpc, s_mpc, u_mpc, u_max)"
   ],
   "metadata": {
    "collapsed": false,
    "pycharm": {
     "name": "#%%\n"
    }
   }
  },
  {
   "cell_type": "code",
   "execution_count": null,
   "outputs": [],
   "source": [
    "ct.plot_mpc_trajectory(s_mpc, N_total_mpc, N_horizon_mpc)"
   ],
   "metadata": {
    "collapsed": false,
    "pycharm": {
     "name": "#%%\n"
    }
   }
  }
 ],
 "metadata": {
  "kernelspec": {
   "name": "pycharm-7d4848dc",
   "language": "python",
   "display_name": "PyCharm (gecco-spoc)"
  },
  "language_info": {
   "codemirror_mode": {
    "name": "ipython",
    "version": 2
   },
   "file_extension": ".py",
   "mimetype": "text/x-python",
   "name": "python",
   "nbconvert_exporter": "python",
   "pygments_lexer": "ipython2",
   "version": "2.7.6"
  }
 },
 "nbformat": 4,
 "nbformat_minor": 0
}