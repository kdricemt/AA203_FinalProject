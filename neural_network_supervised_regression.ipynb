{
 "cells": [
  {
   "cell_type": "code",
   "execution_count": 8,
   "id": "7d348d9c",
   "metadata": {},
   "outputs": [],
   "source": [
    "import pandas as pd\n",
    "import numpy as np \n",
    "import sklearn\n",
    "\n",
    "from sklearn.metrics import mean_squared_error\n",
    "\n",
    "# Keras specific\n",
    "import keras\n",
    "from keras.models import Sequential\n",
    "from keras.layers import Dense\n",
    "from keras.layers import Input\n",
    "from keras.utils.vis_utils import plot_model\n",
    "from tensorflow import keras\n",
    "\n",
    "\n",
    "from tensorflow.keras.layers import Input, Dense, BatchNormalization\n",
    "import matplotlib.pyplot as plt\n",
    "import matplotlib as mpl"
   ]
  },
  {
   "cell_type": "code",
   "execution_count": 9,
   "id": "c0049ca5",
   "metadata": {},
   "outputs": [
    {
     "name": "stdout",
     "output_type": "stream",
     "text": [
      "              x         y         z        vx        vy        vz  gamma_srp  \\\n",
      "0      8.644383  3.414014  6.272693  0.095590  0.084386  0.099086   0.005508   \n",
      "1      1.041932  4.528473  5.164467  0.027336  0.022092  0.065584   0.000946   \n",
      "2      2.249184  3.168478  3.653426  0.012158  0.018015  0.038449   0.029851   \n",
      "3      9.355995  2.231757  8.930586  0.085698  0.083401  0.028777   0.051875   \n",
      "4      8.874650  0.649924  4.857421  0.086009  0.020477  0.011519   0.033073   \n",
      "...         ...       ...       ...       ...       ...       ...        ...   \n",
      "49995  2.306939  7.350681  9.852080  0.016352  0.096401  0.083230   0.008722   \n",
      "49996  9.965313  3.590980  8.771898  0.009535  0.099012  0.087118   0.043257   \n",
      "49997  6.625152  7.674617  6.683209  0.008698  0.000204  0.091725   0.060322   \n",
      "49998  1.519166  5.761292  6.354035  0.071963  0.014639  0.002344   0.017338   \n",
      "49999  7.454597  2.299643  4.621034  0.049021  0.014605  0.036766   0.028852   \n",
      "\n",
      "        gamma_D       psi        ref_x  ...    ref_vx    ref_vy    ref_vz  \\\n",
      "0      0.062427  0.052393 -1720.745055  ...  0.011474  0.001662 -0.000017   \n",
      "1      0.002481  0.023201  6688.281397  ...  0.004500  0.010157 -0.003560   \n",
      "2      0.070863  0.075533  6808.492112  ...  0.004302 -0.007144  0.007903   \n",
      "3      0.134408  0.126665 -5796.503557  ...  0.004529  0.000087 -0.011777   \n",
      "4      0.070437  0.126853 -2725.837055  ... -0.004203  0.011062 -0.003002   \n",
      "...         ...       ...          ...  ...       ...       ...       ...   \n",
      "49995  0.031646  0.067106  7267.266806  ... -0.001195 -0.011584 -0.000137   \n",
      "49996  0.064367  0.049268  2322.638612  ...  0.010646 -0.002826 -0.002363   \n",
      "49997  0.105466  0.117935  2083.955365  ... -0.011678  0.002637  0.001464   \n",
      "49998  0.039799  0.050816  4955.728286  ...  0.008537 -0.008075  0.000308   \n",
      "49999  0.060253  0.119072  -470.061627  ... -0.006816 -0.008221 -0.004522   \n",
      "\n",
      "                 t    residual_x    residual_y    residual_z    dparam_dt1  \\\n",
      "0      3927.063439  6.560000e-07  2.230000e-06  2.040000e-06 -9.970000e-07   \n",
      "1      5226.482385  1.220000e-06  1.370000e-06  5.790000e-07  7.670000e-07   \n",
      "2      5861.138398  1.400000e-06  1.260000e-06  1.900000e-06  1.430000e-06   \n",
      "3      3240.124181  5.170000e-07  1.500000e-06  2.320000e-06 -1.510000e-06   \n",
      "4      2164.191104  1.570000e-06  1.910000e-06  1.780000e-06 -1.220000e-06   \n",
      "...            ...           ...           ...           ...           ...   \n",
      "49995  4197.180208  1.380000e-06  7.060000e-07  9.770000e-07 -5.950000e-07   \n",
      "49996  4424.862525  3.470000e-07  8.510000e-07  1.250000e-06 -8.170000e-08   \n",
      "49997  5639.606918  2.160000e-06  1.330000e-06  7.790000e-07  1.510000e-06   \n",
      "49998  1806.977071  2.300000e-06  1.520000e-06  6.730000e-07 -7.110000e-07   \n",
      "49999  2076.080706  5.710000e-07  1.970000e-06  2.030000e-07 -1.030000e-06   \n",
      "\n",
      "         dparam_dt2  dparam_dt3  \n",
      "0     -9.970000e-07   -0.000058  \n",
      "1      7.670000e-07    0.000045  \n",
      "2      1.430000e-06    0.000083  \n",
      "3     -1.510000e-06   -0.000088  \n",
      "4     -1.220000e-06   -0.000071  \n",
      "...             ...         ...  \n",
      "49995 -5.950000e-07   -0.000035  \n",
      "49996 -8.170000e-08   -0.000005  \n",
      "49997  1.510000e-06    0.000088  \n",
      "49998 -7.110000e-07   -0.000041  \n",
      "49999 -1.030000e-06   -0.000060  \n",
      "\n",
      "[50000 rows x 22 columns]\n",
      "(50000, 22)\n"
     ]
    }
   ],
   "source": [
    "def NormalizeData(data): #Must use this function to normalize the data before training\n",
    "    normalized_data = (data - np.min(data,axis=0)) / (np.max(data,axis=0) - np.min(data,axis=0))\n",
    "    return normalized_data\n",
    "\n",
    "def Undo_NormalizeData(data_output, data): #Must use this function to get the predicted output\n",
    "    not_normalized_data = data_output * (np.max(data,axis=0) - np.min(data,axis=0) + np.min(data,axis=0))\n",
    "    return not_normalized_data\n",
    "\n",
    "df = pd.read_csv('training_data.csv') #TODO\n",
    "#df = df.loc[()] #if necessary, conditionally select relevant data\n",
    "print(df)\n",
    "print(df.shape)"
   ]
  },
  {
   "cell_type": "code",
   "execution_count": 10,
   "id": "1e34c645",
   "metadata": {},
   "outputs": [],
   "source": [
    "targets = ['residual_x','residual_y','residual_z','dparam_dt1','dparam_dt2','dparam_dt3'] #TODO outputs \n",
    "predictors = ['x','y','z','vx','vy','vz','gamma_srp','gamma_D','psi','ref_x','ref_y','ref_z','ref_vx','ref_vy','ref_vz','t'] #TODO inputs\n",
    "\n",
    "X_data = df[predictors].values\n",
    "Y_data = df[targets].values\n",
    "X_data_normalized = NormalizeData(X_data)\n",
    "Y_data_normalized = NormalizeData(Y_data)"
   ]
  },
  {
   "cell_type": "code",
   "execution_count": 11,
   "id": "f8490ed6",
   "metadata": {},
   "outputs": [
    {
     "name": "stdout",
     "output_type": "stream",
     "text": [
      "Model: \"sequential\"\n",
      "_________________________________________________________________\n",
      " Layer (type)                Output Shape              Param #   \n",
      "=================================================================\n",
      " dense (Dense)               (None, 2000)              34000     \n",
      "                                                                 \n",
      " dense_1 (Dense)             (None, 1000)              2001000   \n",
      "                                                                 \n",
      " dense_2 (Dense)             (None, 500)               500500    \n",
      "                                                                 \n",
      " dense_3 (Dense)             (None, 250)               125250    \n",
      "                                                                 \n",
      " dense_4 (Dense)             (None, 100)               25100     \n",
      "                                                                 \n",
      " dense_5 (Dense)             (None, 6)                 606       \n",
      "                                                                 \n",
      "=================================================================\n",
      "Total params: 2,686,456\n",
      "Trainable params: 2,686,456\n",
      "Non-trainable params: 0\n",
      "_________________________________________________________________\n"
     ]
    }
   ],
   "source": [
    "#construct neural network architecture\n",
    "keras.backend.clear_session()\n",
    "model = Sequential()\n",
    "model.add(Dense(2000, input_dim=len(predictors), activation= \"relu\"))\n",
    "model.add(Dense(1000, activation= \"relu\"))\n",
    "model.add(Dense(500, activation= \"relu\"))\n",
    "model.add(Dense(250, activation= \"relu\"))\n",
    "model.add(Dense(100, activation = \"relu\"))\n",
    "model.add(Dense(len(targets)))\n",
    "model.summary()"
   ]
  },
  {
   "cell_type": "code",
   "execution_count": null,
   "id": "be7371f8",
   "metadata": {},
   "outputs": [
    {
     "name": "stdout",
     "output_type": "stream",
     "text": [
      "Epoch 1/50\n",
      "8000/8000 [==============================] - 79s 10ms/step - loss: 0.0304 - accuracy: 0.2981 - val_loss: 0.0275 - val_accuracy: 0.2248\n",
      "Epoch 2/50\n",
      "8000/8000 [==============================] - 81s 10ms/step - loss: 0.0269 - accuracy: 0.3112 - val_loss: 0.0264 - val_accuracy: 0.3270\n",
      "Epoch 3/50\n",
      "8000/8000 [==============================] - 78s 10ms/step - loss: 0.0267 - accuracy: 0.3211 - val_loss: 0.0260 - val_accuracy: 0.2433\n",
      "Epoch 4/50\n",
      "8000/8000 [==============================] - 84s 10ms/step - loss: 0.0265 - accuracy: 0.3187 - val_loss: 0.0265 - val_accuracy: 0.2946\n",
      "Epoch 5/50\n",
      "8000/8000 [==============================] - 84s 10ms/step - loss: 0.0265 - accuracy: 0.3110 - val_loss: 0.0279 - val_accuracy: 0.4073\n",
      "Epoch 6/50\n",
      "8000/8000 [==============================] - 84s 10ms/step - loss: 0.0264 - accuracy: 0.3147 - val_loss: 0.0264 - val_accuracy: 0.2835\n",
      "Epoch 7/50\n",
      "8000/8000 [==============================] - 79s 10ms/step - loss: 0.0264 - accuracy: 0.3290 - val_loss: 0.0262 - val_accuracy: 0.3089\n",
      "Epoch 8/50\n",
      "1494/8000 [====>.........................] - ETA: 1:03 - loss: 0.0261 - accuracy: 0.3442"
     ]
    }
   ],
   "source": [
    "optimizer_hyper = keras.optimizers.Adam(learning_rate=0.001,beta_1=0.9,beta_2=0.999,epsilon=1e-8)\n",
    "model.compile(loss = \"mean_squared_error\", optimizer = optimizer_hyper, metrics=['accuracy'])\n",
    "test_amount = 0.20 #amount of test data, example: 0.1 = 10% of the (bottom portion of datapoints) datapoints will serve as test set\n",
    "history = model.fit(X_data_normalized, Y_data_normalized, validation_split=test_amount, epochs=50, batch_size=5,shuffle=True)\n",
    "print('finished training, ready to predict. If necessary, ready to validate.')"
   ]
  },
  {
   "cell_type": "code",
   "execution_count": 7,
   "id": "e29c91e3",
   "metadata": {},
   "outputs": [
    {
     "data": {
      "image/png": "[encoded data removed]",
      "text/plain": [
       "<Figure size 432x288 with 1 Axes>"
      ]
     },
     "metadata": {
      "needs_background": "light"
     },
     "output_type": "display_data"
    },
    {
     "data": {
      "image/png": "[encoded data removed]",
      "text/plain": [
       "<Figure size 432x288 with 1 Axes>"
      ]
     },
     "metadata": {
      "needs_background": "light"
     },
     "output_type": "display_data"
    }
   ],
   "source": [
    "#do validation\n",
    "plt.plot(history.history['accuracy'])\n",
    "plt.plot(history.history['val_accuracy'])\n",
    "plt.title('model accuracy')\n",
    "plt.ylabel('accuracy')\n",
    "plt.xlabel('epoch')\n",
    "plt.legend(['train', 'test'], loc='best')\n",
    "plt.show()\n",
    "# summarize history for loss\n",
    "plt.plot(history.history['loss'])\n",
    "plt.plot(history.history['val_loss'])\n",
    "plt.title('model loss')\n",
    "plt.ylabel('loss')\n",
    "plt.xlabel('epoch')\n",
    "plt.legend(['train', 'test'], loc='best')\n",
    "plt.show()\n",
    "mpl.rcParams['figure.dpi'] = 105"
   ]
  },
  {
   "cell_type": "code",
   "execution_count": null,
   "id": "afd7c8d0",
   "metadata": {},
   "outputs": [],
   "source": [
    "#model.save('NN_model') #this is how to save the trained model to a folder\n",
    "#model = keras.models.load_model('NN_model') #this is how to load the model folder as a useful object\n"
   ]
  },
  {
   "cell_type": "code",
   "execution_count": 16,
   "id": "61cd9859",
   "metadata": {},
   "outputs": [
    {
     "name": "stdout",
     "output_type": "stream",
     "text": [
      "[1935.7637 1495.1533]\n"
     ]
    }
   ],
   "source": [
    "#example of how to use the NN_model to predict on a given input\n",
    "#probably nest the 5 lines below into a for loop to perform online predictions\n",
    "reshaped_X = X_data_normalized[7,:].reshape(1,len(predictors)) #change the 0th index of X_train to see different datapoints\n",
    "reshaped_X = X_data_normalized[4987,:].reshape(1,len(predictors)) #change the 0th index of X_train to see different datapoints\n",
    "Y_output_normalized = model.predict(reshaped_X)[0]\n",
    "Y_output_final = Undo_NormalizeData(Y_output_normalized, Y_data[4987])\n",
    "print(Y_output_final)"
   ]
  },
  {
   "cell_type": "code",
   "execution_count": 8,
   "id": "91cf37b1",
   "metadata": {},
   "outputs": [],
   "source": []
  }
 ],
 "metadata": {
  "kernelspec": {
   "display_name": "Python 3 (ipykernel)",
   "language": "python",
   "name": "python3"
  },
  "language_info": {
   "codemirror_mode": {
    "name": "ipython",
    "version": 3
   },
   "file_extension": ".py",
   "mimetype": "text/x-python",
   "name": "python",
   "nbconvert_exporter": "python",
   "pygments_lexer": "ipython3",
   "version": "3.10.1"
  },
  "varInspector": {
   "cols": {
    "lenName": 16,
    "lenType": 16,
    "lenVar": 40
   },
   "kernels_config": {
    "python": {
     "delete_cmd_postfix": "",
     "delete_cmd_prefix": "del ",
     "library": "var_list.py",
     "varRefreshCmd": "print(var_dic_list())"
    },
    "r": {
     "delete_cmd_postfix": ") ",
     "delete_cmd_prefix": "rm(",
     "library": "var_list.r",
     "varRefreshCmd": "cat(var_dic_list()) "
    }
   },
   "position": {
    "height": "276.85px",
    "left": "1147.2px",
    "right": "20px",
    "top": "173px",
    "width": "350px"
   },
   "types_to_exclude": [
    "module",
    "function",
    "builtin_function_or_method",
    "instance",
    "_Feature"
   ],
   "window_display": false
  }
 },
 "nbformat": 4,
 "nbformat_minor": 5
}
