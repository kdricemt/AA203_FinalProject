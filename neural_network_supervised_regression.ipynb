{
 "cells": [
  {
   "cell_type": "code",
   "execution_count": 1,
   "id": "b6db5954",
   "metadata": {},
   "outputs": [],
   "source": [
    "import pandas as pd\n",
    "import numpy as np \n",
    "import matplotlib.pyplot as plt\n",
    "import sklearn\n",
    "\n",
    "from sklearn.metrics import mean_squared_error\n",
    "\n",
    "# Keras specific\n",
    "import keras\n",
    "from keras.models import Sequential\n",
    "from keras.layers import Dense\n",
    "from keras.layers import Input\n",
    "from keras.utils.vis_utils import plot_model\n",
    "from tensorflow import keras\n",
    "\n",
    "\n",
    "from tensorflow.keras.layers import Input, Dense, BatchNormalization\n",
    "import matplotlib.pyplot as plt\n",
    "import matplotlib as mpl"
   ]
  },
  {
   "cell_type": "code",
   "execution_count": 2,
   "id": "6c0e96bc",
   "metadata": {},
   "outputs": [
    {
     "name": "stdout",
     "output_type": "stream",
     "text": [
      "           x_in       y_in       z_in   solar_in    drag_in       u_in  \\\n",
      "0      0.197307   0.189965   0.577889   0.739408   0.008100   0.971710   \n",
      "1      0.412463   0.735297   0.422881   0.194958   0.189812   0.413430   \n",
      "2      0.319256   0.077772   0.892778   0.231518   0.511661   0.159951   \n",
      "3      0.635688   0.987492   0.566357   0.536331   0.428458   0.233655   \n",
      "4      0.423981   0.415471   0.005867   0.716125   0.942318   0.698366   \n",
      "...         ...        ...        ...        ...        ...        ...   \n",
      "4995  63.684215  41.843975  11.608486  53.814655  12.107840  31.397617   \n",
      "4996  20.567568  40.084017  24.467610  32.612762  17.991136   2.336689   \n",
      "4997  53.276895  38.191287  62.219338   8.168884  39.476011  35.882746   \n",
      "4998  50.724510  35.727228  38.306620  66.160215  40.242432  68.509389   \n",
      "4999  44.667562  28.394622  28.629196  49.201849  38.795324  42.261198   \n",
      "\n",
      "      residual_a_out  derivative_p_out  \n",
      "0          15.628707          0.333446  \n",
      "1          20.447479         30.745230  \n",
      "2          25.457595         30.185858  \n",
      "3          39.269830         23.184136  \n",
      "4          28.083867         33.192231  \n",
      "...              ...               ...  \n",
      "4995     2617.964924        443.182838  \n",
      "4996     2059.065075       2437.411274  \n",
      "4997     2140.321181        292.113597  \n",
      "4998      149.484502       1726.167308  \n",
      "4999     1230.000397         57.737718  \n",
      "\n",
      "[5000 rows x 8 columns]\n",
      "(5000, 8)\n"
     ]
    }
   ],
   "source": [
    "def NormalizeData(data): #Must use this function to normalize the data before training\n",
    "    normalized_data = (data - np.min(data,axis=0)) / (np.max(data,axis=0) - np.min(data,axis=0))\n",
    "    return normalized_data\n",
    "\n",
    "def Undo_NormalizeData(data_output, data): #Must use this function to get the predicted output\n",
    "    not_normalized_data = data_output * (np.max(data,axis=0) - np.min(data,axis=0) + np.min(data,axis=0))\n",
    "    return not_normalized_data\n",
    "\n",
    "df = pd.read_csv('small.csv') #TODO\n",
    "#df = df.loc[()] #if necessary, conditionally select relevant data\n",
    "print(df)\n",
    "print(df.shape)"
   ]
  },
  {
   "cell_type": "code",
   "execution_count": 3,
   "id": "d098eee3",
   "metadata": {},
   "outputs": [],
   "source": [
    "targets = ['residual_a_out','derivative_p_out'] #TODO outputs \n",
    "predictors = ['x_in','y_in','z_in','solar_in','drag_in','u_in'] #TODO inputs\n",
    "\n",
    "X_data = df[predictors].values\n",
    "Y_data = df[targets].values\n",
    "X_data_normalized = NormalizeData(X_data)\n",
    "Y_data_normalized = NormalizeData(Y_data)"
   ]
  },
  {
   "cell_type": "code",
   "execution_count": 4,
   "id": "4f281917",
   "metadata": {},
   "outputs": [
    {
     "name": "stdout",
     "output_type": "stream",
     "text": [
      "Model: \"sequential\"\n",
      "_________________________________________________________________\n",
      " Layer (type)                Output Shape              Param #   \n",
      "=================================================================\n",
      " dense (Dense)               (None, 1000)              7000      \n",
      "                                                                 \n",
      " dense_1 (Dense)             (None, 500)               500500    \n",
      "                                                                 \n",
      " dense_2 (Dense)             (None, 250)               125250    \n",
      "                                                                 \n",
      " dense_3 (Dense)             (None, 100)               25100     \n",
      "                                                                 \n",
      " dense_4 (Dense)             (None, 50)                5050      \n",
      "                                                                 \n",
      " dense_5 (Dense)             (None, 2)                 102       \n",
      "                                                                 \n",
      "=================================================================\n",
      "Total params: 663,002\n",
      "Trainable params: 663,002\n",
      "Non-trainable params: 0\n",
      "_________________________________________________________________\n"
     ]
    }
   ],
   "source": [
    "#construct neural network architecture\n",
    "keras.backend.clear_session()\n",
    "model = Sequential()\n",
    "model.add(Dense(1000, input_dim=len(predictors), activation= \"relu\"))\n",
    "model.add(Dense(500, activation= \"relu\"))\n",
    "model.add(Dense(250, activation= \"relu\"))\n",
    "model.add(Dense(100, activation = \"relu\"))\n",
    "model.add(Dense(50, activation= \"relu\"))\n",
    "model.add(Dense(len(targets)))\n",
    "model.summary()"
   ]
  },
  {
   "cell_type": "code",
   "execution_count": 5,
   "id": "3da4c3f4",
   "metadata": {},
   "outputs": [
    {
     "name": "stdout",
     "output_type": "stream",
     "text": [
      "Epoch 1/50\n",
      "800/800 [==============================] - 3s 3ms/step - loss: 0.0459 - accuracy: 0.5092 - val_loss: 0.0429 - val_accuracy: 0.5010\n",
      "Epoch 2/50\n",
      "800/800 [==============================] - 2s 3ms/step - loss: 0.0421 - accuracy: 0.5088 - val_loss: 0.0405 - val_accuracy: 0.5220\n",
      "Epoch 3/50\n",
      "800/800 [==============================] - 2s 3ms/step - loss: 0.0414 - accuracy: 0.5305 - val_loss: 0.0408 - val_accuracy: 0.5250\n",
      "Epoch 4/50\n",
      "800/800 [==============================] - 3s 3ms/step - loss: 0.0404 - accuracy: 0.5328 - val_loss: 0.0393 - val_accuracy: 0.5310\n",
      "Epoch 5/50\n",
      "800/800 [==============================] - 2s 3ms/step - loss: 0.0395 - accuracy: 0.5293 - val_loss: 0.0376 - val_accuracy: 0.5500\n",
      "Epoch 6/50\n",
      "800/800 [==============================] - 2s 3ms/step - loss: 0.0382 - accuracy: 0.5485 - val_loss: 0.0362 - val_accuracy: 0.5630\n",
      "Epoch 7/50\n",
      "800/800 [==============================] - 2s 3ms/step - loss: 0.0370 - accuracy: 0.5567 - val_loss: 0.0340 - val_accuracy: 0.5730\n",
      "Epoch 8/50\n",
      "800/800 [==============================] - 2s 3ms/step - loss: 0.0351 - accuracy: 0.5730 - val_loss: 0.0328 - val_accuracy: 0.5830\n",
      "Epoch 9/50\n",
      "800/800 [==============================] - 3s 3ms/step - loss: 0.0334 - accuracy: 0.5822 - val_loss: 0.0311 - val_accuracy: 0.5900\n",
      "Epoch 10/50\n",
      "800/800 [==============================] - 3s 3ms/step - loss: 0.0312 - accuracy: 0.5965 - val_loss: 0.0283 - val_accuracy: 0.5940\n",
      "Epoch 11/50\n",
      "800/800 [==============================] - 2s 3ms/step - loss: 0.0290 - accuracy: 0.6053 - val_loss: 0.0251 - val_accuracy: 0.6140\n",
      "Epoch 12/50\n",
      "800/800 [==============================] - 2s 3ms/step - loss: 0.0257 - accuracy: 0.6115 - val_loss: 0.0238 - val_accuracy: 0.6240\n",
      "Epoch 13/50\n",
      "800/800 [==============================] - 2s 3ms/step - loss: 0.0231 - accuracy: 0.6230 - val_loss: 0.0219 - val_accuracy: 0.6380\n",
      "Epoch 14/50\n",
      "800/800 [==============================] - 2s 3ms/step - loss: 0.0205 - accuracy: 0.6405 - val_loss: 0.0187 - val_accuracy: 0.6470\n",
      "Epoch 15/50\n",
      "800/800 [==============================] - 2s 3ms/step - loss: 0.0183 - accuracy: 0.6370 - val_loss: 0.0160 - val_accuracy: 0.6420\n",
      "Epoch 16/50\n",
      "800/800 [==============================] - 2s 3ms/step - loss: 0.0150 - accuracy: 0.6628 - val_loss: 0.0141 - val_accuracy: 0.6750\n",
      "Epoch 17/50\n",
      "800/800 [==============================] - 2s 3ms/step - loss: 0.0130 - accuracy: 0.6685 - val_loss: 0.0110 - val_accuracy: 0.6750\n",
      "Epoch 18/50\n",
      "800/800 [==============================] - 2s 3ms/step - loss: 0.0115 - accuracy: 0.6833 - val_loss: 0.0093 - val_accuracy: 0.6890\n",
      "Epoch 19/50\n",
      "800/800 [==============================] - 2s 3ms/step - loss: 0.0098 - accuracy: 0.6793 - val_loss: 0.0081 - val_accuracy: 0.6680\n",
      "Epoch 20/50\n",
      "800/800 [==============================] - 3s 3ms/step - loss: 0.0085 - accuracy: 0.6808 - val_loss: 0.0078 - val_accuracy: 0.6860\n",
      "Epoch 21/50\n",
      "800/800 [==============================] - 3s 3ms/step - loss: 0.0081 - accuracy: 0.6915 - val_loss: 0.0122 - val_accuracy: 0.6640\n",
      "Epoch 22/50\n",
      "800/800 [==============================] - 3s 3ms/step - loss: 0.0072 - accuracy: 0.7025 - val_loss: 0.0047 - val_accuracy: 0.7010\n",
      "Epoch 23/50\n",
      "800/800 [==============================] - 3s 3ms/step - loss: 0.0043 - accuracy: 0.7025 - val_loss: 0.0037 - val_accuracy: 0.7080\n",
      "Epoch 24/50\n",
      "800/800 [==============================] - 2s 3ms/step - loss: 0.0056 - accuracy: 0.7075 - val_loss: 0.0054 - val_accuracy: 0.7000\n",
      "Epoch 25/50\n",
      "800/800 [==============================] - 2s 3ms/step - loss: 0.0054 - accuracy: 0.7070 - val_loss: 0.0027 - val_accuracy: 0.7200\n",
      "Epoch 26/50\n",
      "800/800 [==============================] - 2s 3ms/step - loss: 0.0056 - accuracy: 0.7023 - val_loss: 0.0056 - val_accuracy: 0.7090\n",
      "Epoch 27/50\n",
      "800/800 [==============================] - 2s 3ms/step - loss: 0.0032 - accuracy: 0.7222 - val_loss: 0.0017 - val_accuracy: 0.7350\n",
      "Epoch 28/50\n",
      "800/800 [==============================] - 2s 3ms/step - loss: 0.0027 - accuracy: 0.7110 - val_loss: 0.0046 - val_accuracy: 0.6990\n",
      "Epoch 29/50\n",
      "800/800 [==============================] - 3s 3ms/step - loss: 0.0063 - accuracy: 0.7045 - val_loss: 0.0048 - val_accuracy: 0.7140\n",
      "Epoch 30/50\n",
      "800/800 [==============================] - 3s 3ms/step - loss: 0.0023 - accuracy: 0.7175 - val_loss: 0.0021 - val_accuracy: 0.7220\n",
      "Epoch 31/50\n",
      "800/800 [==============================] - 2s 3ms/step - loss: 0.0033 - accuracy: 0.7150 - val_loss: 0.0061 - val_accuracy: 0.6920\n",
      "Epoch 32/50\n",
      "800/800 [==============================] - 3s 3ms/step - loss: 0.0033 - accuracy: 0.7092 - val_loss: 0.0045 - val_accuracy: 0.7050\n",
      "Epoch 33/50\n",
      "800/800 [==============================] - 3s 3ms/step - loss: 0.0013 - accuracy: 0.7327 - val_loss: 7.0889e-04 - val_accuracy: 0.7270\n",
      "Epoch 34/50\n",
      "800/800 [==============================] - 2s 3ms/step - loss: 0.0024 - accuracy: 0.7300 - val_loss: 0.0104 - val_accuracy: 0.6710\n",
      "Epoch 35/50\n",
      "800/800 [==============================] - 2s 3ms/step - loss: 0.0062 - accuracy: 0.7088 - val_loss: 0.0042 - val_accuracy: 0.7060\n",
      "Epoch 36/50\n",
      "800/800 [==============================] - 2s 3ms/step - loss: 0.0010 - accuracy: 0.7193 - val_loss: 3.1844e-04 - val_accuracy: 0.7370\n",
      "Epoch 37/50\n",
      "800/800 [==============================] - 2s 3ms/step - loss: 0.0028 - accuracy: 0.7150 - val_loss: 0.0062 - val_accuracy: 0.7020\n",
      "Epoch 38/50\n",
      "800/800 [==============================] - 2s 3ms/step - loss: 0.0024 - accuracy: 0.7120 - val_loss: 8.0544e-04 - val_accuracy: 0.7280\n",
      "Epoch 39/50\n",
      "800/800 [==============================] - 2s 3ms/step - loss: 0.0046 - accuracy: 0.7138 - val_loss: 0.0076 - val_accuracy: 0.7000\n",
      "Epoch 40/50\n",
      "800/800 [==============================] - 2s 3ms/step - loss: 0.0023 - accuracy: 0.7225 - val_loss: 4.0112e-04 - val_accuracy: 0.7350\n",
      "Epoch 41/50\n",
      "800/800 [==============================] - 2s 3ms/step - loss: 9.4763e-04 - accuracy: 0.7295 - val_loss: 0.0011 - val_accuracy: 0.7250\n",
      "Epoch 42/50\n",
      "800/800 [==============================] - 2s 3ms/step - loss: 0.0032 - accuracy: 0.7240 - val_loss: 0.0027 - val_accuracy: 0.7090\n",
      "Epoch 43/50\n",
      "800/800 [==============================] - 2s 3ms/step - loss: 0.0023 - accuracy: 0.7205 - val_loss: 0.0013 - val_accuracy: 0.7250\n",
      "Epoch 44/50\n",
      "800/800 [==============================] - 2s 3ms/step - loss: 6.0126e-04 - accuracy: 0.7548 - val_loss: 2.1903e-04 - val_accuracy: 0.7350\n",
      "Epoch 45/50\n",
      "800/800 [==============================] - 2s 3ms/step - loss: 1.8253e-04 - accuracy: 0.7510 - val_loss: 2.8364e-04 - val_accuracy: 0.7430\n",
      "Epoch 46/50\n",
      "800/800 [==============================] - 3s 3ms/step - loss: 0.0057 - accuracy: 0.7038 - val_loss: 0.0129 - val_accuracy: 0.6600\n",
      "Epoch 47/50\n",
      "800/800 [==============================] - 2s 3ms/step - loss: 0.0047 - accuracy: 0.7095 - val_loss: 8.1850e-04 - val_accuracy: 0.7240\n",
      "Epoch 48/50\n",
      "800/800 [==============================] - 2s 3ms/step - loss: 4.3883e-04 - accuracy: 0.7455 - val_loss: 6.2711e-04 - val_accuracy: 0.7340\n",
      "Epoch 49/50\n",
      "800/800 [==============================] - 2s 3ms/step - loss: 5.6396e-04 - accuracy: 0.7400 - val_loss: 6.5804e-04 - val_accuracy: 0.7410\n",
      "Epoch 50/50\n",
      "800/800 [==============================] - 2s 3ms/step - loss: 0.0041 - accuracy: 0.7178 - val_loss: 0.0071 - val_accuracy: 0.6980\n",
      "finished training, ready to predict. If necessary, ready to validate.\n"
     ]
    }
   ],
   "source": [
    "optimizer_hyper = keras.optimizers.Adam(learning_rate=0.001,beta_1=0.9,beta_2=0.999,epsilon=1e-8)\n",
    "model.compile(loss = \"mean_squared_error\", optimizer = optimizer_hyper, metrics=['accuracy'])\n",
    "test_amount = 0.2 #amount of test data, example: 0.1 = 10% of the (bottom portion of datapoints) datapoints will serve as test set\n",
    "history = model.fit(X_data_normalized, Y_data_normalized, validation_split=test_amount, epochs=50, batch_size=5,shuffle=True)\n",
    "print('finished training, ready to predict. If necessary, ready to validate.')"
   ]
  },
  {
   "cell_type": "code",
   "execution_count": 6,
   "id": "1edf2001",
   "metadata": {},
   "outputs": [
    {
     "data": {
      "image/png": "[encoded data removed]",
      "text/plain": [
       "<Figure size 432x288 with 1 Axes>"
      ]
     },
     "metadata": {
      "needs_background": "light"
     },
     "output_type": "display_data"
    },
    {
     "data": {
      "image/png": "[encoded data removed]",
      "text/plain": [
       "<Figure size 432x288 with 1 Axes>"
      ]
     },
     "metadata": {
      "needs_background": "light"
     },
     "output_type": "display_data"
    }
   ],
   "source": [
    "#do validation\n",
    "plt.plot(history.history['accuracy'])\n",
    "plt.plot(history.history['val_accuracy'])\n",
    "plt.title('model accuracy')\n",
    "plt.ylabel('accuracy')\n",
    "plt.xlabel('epoch')\n",
    "plt.legend(['train', 'test'], loc='best')\n",
    "plt.show()\n",
    "# summarize history for loss\n",
    "plt.plot(history.history['loss'])\n",
    "plt.plot(history.history['val_loss'])\n",
    "plt.title('model loss')\n",
    "plt.ylabel('loss')\n",
    "plt.xlabel('epoch')\n",
    "plt.legend(['train', 'test'], loc='best')\n",
    "plt.show()\n",
    "mpl.rcParams['figure.dpi'] = 105"
   ]
  },
  {
   "cell_type": "code",
   "execution_count": null,
   "id": "3deb7b8e",
   "metadata": {},
   "outputs": [],
   "source": [
    "#model.save('NN_model') #this is how to save the trained model to a folder\n",
    "#model = keras.models.load_model('NN_model') #this is how to load the model folder as a useful object\n"
   ]
  },
  {
   "cell_type": "code",
   "execution_count": 16,
   "id": "a468c21a",
   "metadata": {},
   "outputs": [
    {
     "name": "stdout",
     "output_type": "stream",
     "text": [
      "[1935.7637 1495.1533]\n"
     ]
    }
   ],
   "source": [
    "#example of how to use the NN_model to predict on a given input\n",
    "#probably nest the 5 lines below into a for loop to perform online predictions\n",
    "reshaped_X = X_data_normalized[7,:].reshape(1,len(predictors)) #change the 0th index of X_train to see different datapoints\n",
    "reshaped_X = X_data_normalized[4987,:].reshape(1,len(predictors)) #change the 0th index of X_train to see different datapoints\n",
    "Y_output_normalized = model.predict(reshaped_X)[0]\n",
    "Y_output_final = Undo_NormalizeData(Y_output_normalized, Y_data[4987])\n",
    "print(Y_output_final)"
   ]
  },
  {
   "cell_type": "code",
   "execution_count": 8,
   "id": "a88ab5fb",
   "metadata": {},
   "outputs": [],
   "source": []
  }
 ],
 "metadata": {
  "kernelspec": {
   "display_name": "Python 3 (ipykernel)",
   "language": "python",
   "name": "python3"
  },
  "language_info": {
   "codemirror_mode": {
    "name": "ipython",
    "version": 3
   },
   "file_extension": ".py",
   "mimetype": "text/x-python",
   "name": "python",
   "nbconvert_exporter": "python",
   "pygments_lexer": "ipython3",
   "version": "3.10.1"
  },
  "varInspector": {
   "cols": {
    "lenName": 16,
    "lenType": 16,
    "lenVar": 40
   },
   "kernels_config": {
    "python": {
     "delete_cmd_postfix": "",
     "delete_cmd_prefix": "del ",
     "library": "var_list.py",
     "varRefreshCmd": "print(var_dic_list())"
    },
    "r": {
     "delete_cmd_postfix": ") ",
     "delete_cmd_prefix": "rm(",
     "library": "var_list.r",
     "varRefreshCmd": "cat(var_dic_list()) "
    }
   },
   "position": {
    "height": "276.85px",
    "left": "1147.2px",
    "right": "20px",
    "top": "173px",
    "width": "350px"
   },
   "types_to_exclude": [
    "module",
    "function",
    "builtin_function_or_method",
    "instance",
    "_Feature"
   ],
   "window_display": false
  }
 },
 "nbformat": 4,
 "nbformat_minor": 5
}
