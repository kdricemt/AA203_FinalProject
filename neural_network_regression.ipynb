import pandas as pd
import numpy as np 
import matplotlib.pyplot as plt
import sklearn

import pydot
import pydotplus
import graphviz
from sklearn.model_selection import train_test_split
from sklearn.metrics import mean_squared_error

import keras
from keras.models import Sequential
from keras.layers import Dense
from keras.layers import Input
from keras.utils.vis_utils import plot_model
from tensorflow.keras.layers import Input, Dense, BatchNormalization


def NormalizeData(data):
    return (data - np.min(data,axis=0)) / (np.max(data,axis=0) - np.min(data,axis=0))

df = pd.read_csv('') #TODO
#df = df.loc[()] #if necessary conditionally select relevant data
target_column = [''] #TODO 
