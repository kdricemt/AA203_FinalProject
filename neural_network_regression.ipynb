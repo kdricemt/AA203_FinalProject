{
 "cells": [
  {
   "cell_type": "code",
   "execution_count": 1,
   "id": "8cd69862",
   "metadata": {},
   "outputs": [],
   "source": [
    "import pandas as pd\n",
    "import numpy as np \n",
    "import matplotlib.pyplot as plt\n",
    "import sklearn\n",
    "\n",
    "import pydot\n",
    "import pydotplus\n",
    "import graphviz\n",
    "from sklearn.metrics import mean_squared_error\n",
    "\n",
    "import keras\n",
    "from keras.models import Sequential\n",
    "from keras.layers import Dense\n",
    "from keras.layers import Input\n",
    "from tensorflow.keras.layers import Input, Dense, BatchNormalization"
   ]
  },
  {
   "cell_type": "code",
   "execution_count": null,
   "id": "d9a0a7a2",
   "metadata": {},
   "outputs": [],
   "source": [
    "def NormalizeData(data):\n",
    "    normalized_data = (data - np.min(data,axis=0)) / (np.max(data,axis=0) - np.min(data,axis=0))\n",
    "    return normalized_data\n",
    "\n",
    "def Undo_NormalizeData(data_output, data):\n",
    "    not_normalized_data = data_output * (np.max(data,axis=0) - np.min(data,axis=0) + np.min(data,axis=0))\n",
    "    return not_normalized_data\n",
    "\n",
    "df = pd.read_csv('small.csv') #TODO\n",
    "#df = df.loc[()] #if necessary, conditionally select relevant data\n",
    "targets = [''] #TODO outputs\n",
    "predictors = [''] #TODO inputs\n",
    "X_data = df[predictors]\n",
    "Y_data = df[targets]\n",
    "X_train = NormalizeData(X_data)\n",
    "Y_train = NormalizeData(Y_data)\n",
    "X_train = X_train.values\n",
    "Y_train = Y_train.values\n",
    "\n",
    "# Define Neural Network\n",
    "keras.backend.clear_session()\n",
    "model = Sequential()\n",
    "model.add(Dense(1000), input_dim = len(X_train[1,:]), activation = \"relu\"))\n",
    "model.add(Dense(500), activation = \"relu\"))\n",
    "model.add(Dense(250), activation = \"relu\"))\n",
    "model.add(Dense(100), activation = \"relu\"))\n",
    "model.add(Dense(len(Y_train[1,:])))\n",
    "model.summary()\n",
    "\n",
    "model.compile(loss = \"mean_squared_error\", optimizer = \"adam\")\n",
    "history = model.fit(X_train, Y_train, epochs=100, batch_size=5,shuffle=True)\n",
    "print('finished training, ready to predict. If necessary, ready to validate.')\n",
    "\n",
    "reshaped_X = X_train[0,:].reshape(1,len(X_train[1,:])) #change the 0th index of X_train to see different datapoints\n",
    "Y_output_normalized = model.predict(reshaped_X)\n",
    "Y_output_final = Undo_NormalizeData(Y_output_normalized, Y_data)\n",
    "print(Y_output_final)"
   ]
  }
 ],
 "metadata": {
  "kernelspec": {
   "display_name": "Python 3 (ipykernel)",
   "language": "python",
   "name": "python3"
  },
  "language_info": {
   "codemirror_mode": {
    "name": "ipython",
    "version": 3
   },
   "file_extension": ".py",
   "mimetype": "text/x-python",
   "name": "python",
   "nbconvert_exporter": "python",
   "pygments_lexer": "ipython3",
   "version": "3.10.1"
  },
  "varInspector": {
   "cols": {
    "lenName": 16,
    "lenType": 16,
    "lenVar": 40
   },
   "kernels_config": {
    "python": {
     "delete_cmd_postfix": "",
     "delete_cmd_prefix": "del ",
     "library": "var_list.py",
     "varRefreshCmd": "print(var_dic_list())"
    },
    "r": {
     "delete_cmd_postfix": ") ",
     "delete_cmd_prefix": "rm(",
     "library": "var_list.r",
     "varRefreshCmd": "cat(var_dic_list()) "
    }
   },
   "types_to_exclude": [
    "module",
    "function",
    "builtin_function_or_method",
    "instance",
    "_Feature"
   ],
   "window_display": false
  }
 },
 "nbformat": 4,
 "nbformat_minor": 5
}
