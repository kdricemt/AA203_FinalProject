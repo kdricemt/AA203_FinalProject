{
 "cells": [
  {
   "cell_type": "code",
   "execution_count": 1,
   "metadata": {
    "collapsed": true,
    "pycharm": {
     "name": "#%%\n"
    }
   },
   "outputs": [
    {
     "name": "stderr",
     "output_type": "stream",
     "text": [
      "WARNING:absl:No GPU/TPU found, falling back to CPU. (Set TF_CPP_MIN_LOG_LEVEL=0 and rerun for more info.)\n"
     ]
    }
   ],
   "source": [
    "# Test MPC\n",
    "\n",
    "# Standard imports for SCP via JAX and CVXPY\n",
    "import numpy as np # CVXPY uses numpy\n",
    "import cvxpy as cvx # For Convex Optimization\n",
    "from cvxpy.constraints import constraint\n",
    "import jax # For computing gradients and JIT\n",
    "import jax.numpy as jnp\n",
    "from tqdm import tqdm # For progress bars\n",
    "from functools import partial # For helping JAX\n",
    "\n",
    "# Assessment\n",
    "import time\n",
    "import matplotlib.pyplot as plt\n",
    "import scipy.interpolate\n",
    "import scipy.optimize\n",
    "\n",
    "import dynamics as dn\n",
    "import control as ct"
   ]
  },
  {
   "cell_type": "markdown",
   "source": [
    "## Import NN model"
   ],
   "metadata": {
    "collapsed": false,
    "pycharm": {
     "name": "#%% md\n"
    }
   }
  },
  {
   "cell_type": "code",
   "execution_count": 2,
   "outputs": [
    {
     "name": "stderr",
     "output_type": "stream",
     "text": [
      "\n",
      "KeyboardInterrupt\n",
      "\n"
     ]
    }
   ],
   "source": [
    "import tensorflow as tf\n",
    "from tensorflow import keras\n",
    "model = keras.models.load_model('NN_model_6')"
   ],
   "metadata": {
    "collapsed": false,
    "pycharm": {
     "name": "#%%\n"
    }
   }
  },
  {
   "cell_type": "markdown",
   "source": [
    "## Compute max and min range of dataset for normalization"
   ],
   "metadata": {
    "collapsed": false,
    "pycharm": {
     "name": "#%% md\n"
    }
   }
  },
  {
   "cell_type": "code",
   "execution_count": null,
   "outputs": [],
   "source": [
    "import pandas as pd\n",
    "# load csv\n",
    "df = pd.read_csv('training_data.csv') #TODO\n",
    "#df = df.loc[()] #if necessary, conditionally select relevant data\n",
    "print(df.shape)\n",
    "\n",
    "mins = np.array(np.min(df,axis=0))\n",
    "maxs = np.array(np.max(df,axis=0))\n",
    "\n",
    "norm_inputs = np.vstack([np.hstack([mins[1:9], mins[10:16]]), np.hstack([maxs[1:9], maxs[10:16]])])\n",
    "norm_outputs = np.vstack([mins[17:], maxs[17:]])\n",
    "\n",
    "print(norm_inputs)\n",
    "print(norm_outputs)"
   ],
   "metadata": {
    "collapsed": false,
    "pycharm": {
     "name": "#%%\n"
    }
   }
  },
  {
   "cell_type": "markdown",
   "source": [
    "## Common Parameters"
   ],
   "metadata": {
    "collapsed": false,
    "pycharm": {
     "name": "#%% md\n"
    }
   }
  },
  {
   "cell_type": "code",
   "execution_count": null,
   "outputs": [],
   "source": [
    "import pykep\n",
    "# SPACECRAFT PARAMETERS\n",
    "C_D = 1.5 # Dimensionless\n",
    "C_SRP = 1.5 # Dimensionless\n",
    "\n",
    "A = 1.0   # m^2\n",
    "MASS_SAT = 100   # kg\n",
    "\n",
    "GAMMA_SRP = C_SRP * A / MASS_SAT\n",
    "GAMMA_DRAG = C_D * A / MASS_SAT\n",
    "\n",
    "PSI = 0    # thermal oscillation\n",
    "\n",
    "R_EARTH = 6378\n",
    "MU_EARTH_KM = pykep.MU_EARTH * 1e-9\n",
    "EARTH_TO_SUN_VEC = dn.compute_earth_to_sun()\n"
   ],
   "metadata": {
    "collapsed": false,
    "pycharm": {
     "name": "#%%\n"
    }
   }
  },
  {
   "cell_type": "markdown",
   "source": [
    "## Spacecraft Initial States"
   ],
   "metadata": {
    "collapsed": false,
    "pycharm": {
     "name": "#%% md\n"
    }
   }
  },
  {
   "cell_type": "code",
   "execution_count": null,
   "outputs": [],
   "source": [
    "# Initial condition of reference orbit\n",
    "h = 600  # km  height for perigee\n",
    "e = 0.001\n",
    "a = (R_EARTH + h) / (1 - e)\n",
    "i = 0.6\n",
    "W = 0\n",
    "w = 0\n",
    "E = 0\n",
    "\n",
    "# satellite initial condition\n",
    "# dr = np.array([1.2e-5, 1.5e-5, 1.3e-5])   # relative position vector to ref\n",
    "# dv = np.array([1.1e-5, 1.4e-5, 1.7e-5])  # relative velocity to ref\n",
    "\n",
    "dr = np.array([0.1, 0, 0])   # relative position vector to ref\n",
    "dv = np.array([1e-5, 0, 0])  # relative velocity to ref\n",
    "\n",
    "# orbital period\n",
    "T = 2 * jnp.pi * jnp.sqrt(a**3/MU_EARTH_KM)\n",
    "\n",
    "# compute orbit elements\n",
    "oe_chief = np.array([a, e, i, W, w, E])\n",
    "r0_chief, v0_chief = pykep.core.par2ic(oe_chief, MU_EARTH_KM)\n",
    "r0_sat, v0_sat = r0_chief + dr, v0_chief + dv\n",
    "\n",
    "# convert to JAX array\n",
    "x0_chief_eci = jnp.array(np.hstack([r0_chief, v0_chief]))\n",
    "\n",
    "# Initial  States\n",
    "s0_rel_chief = jnp.hstack([dn.eci_to_lvlh(x0_chief_eci, x0_chief_eci)])\n",
    "print(f\"Should be uniformly zero = {s0_rel_chief}\")"
   ],
   "metadata": {
    "collapsed": false,
    "pycharm": {
     "name": "#%%\n"
    }
   }
  },
  {
   "cell_type": "markdown",
   "source": [
    "## Time Propagation Settings"
   ],
   "metadata": {
    "collapsed": false,
    "pycharm": {
     "name": "#%% md\n"
    }
   }
  },
  {
   "cell_type": "code",
   "execution_count": null,
   "outputs": [],
   "source": [
    "# Propagation time settings\n",
    "dt = 0.1\n",
    "tspan_quarter_periods = np.arange(0, 0.1 * T, dt)   # propagation step\n",
    "print(f\"Tspan size: {tspan_quarter_periods.size}\")"
   ],
   "metadata": {
    "collapsed": false,
    "pycharm": {
     "name": "#%%\n"
    }
   }
  },
  {
   "cell_type": "markdown",
   "source": [],
   "metadata": {
    "collapsed": false,
    "pycharm": {
     "name": "#%% md\n"
    }
   }
  },
  {
   "cell_type": "markdown",
   "source": [
    "## JIT Dynamics Functions"
   ],
   "metadata": {
    "collapsed": false,
    "pycharm": {
     "name": "#%% md\n"
    }
   }
  },
  {
   "cell_type": "code",
   "execution_count": null,
   "outputs": [],
   "source": [
    "# JIT the dynamics functions\n",
    "t = 0  # we can assume this because there is no change in the parameters\n",
    "fd_absolute = jax.jit(ct.discretize(ct.absolute_dynamics, dt))\n",
    "\n",
    "x_chief_eci_traj = ct.propagate_absolute_from_control(x0_chief_eci, ct.zero_control, tspan_quarter_periods, fd_absolute)\n",
    "\n",
    "interp_abs_chief_jit = jax.jit(ct.interp_fixed(tspan_quarter_periods, x_chief_eci_traj[:, :-1]))\n",
    "fd_relative_4T = jax.jit(ct.discretize(ct.relative_dynamics, dt, params=(GAMMA_SRP, GAMMA_DRAG, PSI), state_eci_ref_func=interp_abs_chief_jit))\n",
    "fd_relative_4T_back = jax.jit(ct.discretize(ct.relative_dynamics, -dt, params=(GAMMA_SRP, GAMMA_DRAG, PSI), state_eci_ref_func=interp_abs_chief_jit))\n",
    "\n",
    "# NN Propagator\n",
    "fd_relative_4T_NN = ct.discretize_Euler(ct.relative_dynamics_neural_net, dt,\n",
    "                                        params=np.array([GAMMA_SRP, GAMMA_DRAG, PSI]),\n",
    "                                        state_eci_ref_func=interp_abs_chief_jit,\n",
    "                                        model=model,\n",
    "                                        min_max_in=norm_inputs, min_max_out=norm_outputs)"
   ],
   "metadata": {
    "collapsed": false,
    "pycharm": {
     "name": "#%%\n"
    }
   }
  },
  {
   "cell_type": "markdown",
   "source": [
    "## Generate Initial Condition by back propagation"
   ],
   "metadata": {
    "collapsed": false,
    "pycharm": {
     "name": "#%% md\n"
    }
   }
  },
  {
   "cell_type": "code",
   "execution_count": null,
   "outputs": [],
   "source": [
    "Nctrl = 10  # control steps\n",
    "control_interval = 10   # apply same ctrl for this step\n",
    "Nsteps = Nctrl * control_interval\n",
    "\n",
    "if dt * Nctrl >= tspan_quarter_periods[-1]:\n",
    "    print(\"Final Epoch too large!\")\n",
    "\n",
    "t_final = dt * Nsteps\n",
    "\n",
    "# define control bounds\n",
    "min_T = -250e-3  # N\n",
    "max_T = 250e-3 # N\n",
    "\n",
    "u_min = min_T/MASS_SAT  # m / s\n",
    "u_max = max_T/MASS_SAT  # m / s\n",
    "\n",
    "# propagate the state backwards\n",
    "u_random = ct.rand_box_control(np.ones(Nctrl), u_min, u_max).transpose()  # T x 3\n",
    "u_mat_rep = np.repeat(u_random, control_interval, axis=0)   # (intervalxT) x 3\n",
    "u_random_rep = u_mat_rep.flatten()\n",
    "\n",
    "state_init = np.zeros(6)\n",
    "states_feasible = np.zeros((6, Nsteps+1))\n",
    "\n",
    "states_feasible[:,-1] = state_init\n",
    "\n",
    "for i in range(Nsteps):\n",
    "    current_t = dt * (Nsteps-i)\n",
    "    state_init = fd_relative_4T_back(state_init, current_t, u_mat_rep[Nsteps-1-i, :])\n",
    "    states_feasible[:, Nsteps-1-i] = state_init\n",
    "\n",
    "print(\"Initial Condition:\", state_init)\n",
    "ct.plot_control_trajectory(states_feasible)"
   ],
   "metadata": {
    "collapsed": false,
    "pycharm": {
     "name": "#%%\n"
    }
   }
  },
  {
   "cell_type": "code",
   "execution_count": null,
   "outputs": [],
   "source": [
    "# Forward Propagate the trajectory for check\n",
    "t_prop = np.arange(0, t_final, dt)\n",
    "s_forward = ct.propagate_relative_from_control(state_init, u_random_rep, t_prop,  fd_relative_4T)\n",
    "ct.plot_control_trajectory(s_forward)"
   ],
   "metadata": {
    "collapsed": false,
    "pycharm": {
     "name": "#%%\n"
    }
   }
  },
  {
   "cell_type": "markdown",
   "source": [
    "## Test NN Outputs"
   ],
   "metadata": {
    "collapsed": false,
    "pycharm": {
     "name": "#%% md\n"
    }
   }
  },
  {
   "cell_type": "code",
   "execution_count": null,
   "outputs": [],
   "source": [
    "acc_NN = ct.relative_dynamics_neural_net(state_init, 0, np.zeros(3),\n",
    "                                  params=np.array([GAMMA_SRP, GAMMA_DRAG, PSI]),\n",
    "                                  state_eci_ref_func=interp_abs_chief_jit,\n",
    "                                  model=model,\n",
    "                                  min_max_in=norm_inputs, min_max_out=norm_outputs)\n",
    "print(acc_NN)"
   ],
   "metadata": {
    "collapsed": false,
    "pycharm": {
     "name": "#%%\n"
    }
   }
  },
  {
   "cell_type": "markdown",
   "source": [
    "## Test NN discrete dynamics propagator"
   ],
   "metadata": {
    "collapsed": false,
    "pycharm": {
     "name": "#%% md\n"
    }
   }
  },
  {
   "cell_type": "code",
   "execution_count": null,
   "outputs": [],
   "source": [
    "# Propate with NN\n",
    "t_prop = np.arange(0, t_final, dt)\n",
    "s_forward_NN = ct.propagate_relative_from_control(state_init, u_random_rep, t_prop,  fd_relative_4T_NN)\n",
    "ct.plot_control_trajectory2(s_forward, s_forward_NN)"
   ],
   "metadata": {
    "collapsed": false,
    "pycharm": {
     "name": "#%%\n"
    }
   }
  },
  {
   "cell_type": "code",
   "execution_count": null,
   "outputs": [],
   "source": [
    "modify_initial = True\n",
    "\n",
    "if modify_initial:\n",
    "    dr = np.array([1.2e-5, 1.5e-5, 1.3e-5])   # relative position vector to ref\n",
    "    dv = np.array([1.1e-5, 1.4e-5, 1.7e-5])  # relative velocity to ref\n",
    "    r0_sat, v0_sat = r0_chief + dr, v0_chief + dv\n",
    "    x0_sat_eci = jnp.array(np.hstack([r0_sat, v0_sat]))\n",
    "    state_init = jnp.hstack([dn.eci_to_lvlh(x0_chief_eci, x0_sat_eci)])"
   ],
   "metadata": {
    "collapsed": false,
    "pycharm": {
     "name": "#%%\n"
    }
   }
  },
  {
   "cell_type": "markdown",
   "source": [
    "## Test Control Optimization with Scipy Optimize"
   ],
   "metadata": {
    "collapsed": false,
    "pycharm": {
     "name": "#%% md\n"
    }
   }
  },
  {
   "cell_type": "code",
   "execution_count": null,
   "outputs": [],
   "source": [
    "# Test optimizing with scipy minimize\n",
    "only_mpc = True\n",
    "final_is_hard_constraint = False   # set terminal constraint as cost or hard constraint\n",
    "\n",
    "if not only_mpc:\n",
    "    if final_is_hard_constraint:\n",
    "        ## Solve with final point as hard constraint\n",
    "        s_optimal, u_optimal, tspan_optimize, u_initial, cost, constraint_vl \\\n",
    "          = ct.shooting_with_scipy(Nctrl, control_interval,\n",
    "                                   dt, u_min, u_max, state_init, fd_relative_4T,\n",
    "                                   u_guess = u_random.flatten(),\n",
    "                                   maxiter=5000)\n",
    "    else:\n",
    "        s_optimal, u_optimal, tspan_optimize, u_initial \\\n",
    "          = ct.optimize_with_scipy(Nctrl, control_interval,\n",
    "                                   dt, u_min, u_max, state_init, fd_relative_4T,\n",
    "                                   u_guess= None, #u_random.flatten(),\n",
    "                                   use_MBH = False,\n",
    "                                   maxiter=5000, stage_w=0, terminal_w=1e10)\n",
    "\n",
    "    print(\"Finished!\")"
   ],
   "metadata": {
    "collapsed": false,
    "pycharm": {
     "name": "#%%\n"
    }
   }
  },
  {
   "cell_type": "markdown",
   "source": [
    "## Plot control results\n",
    "- plot the outputs from the control sequence"
   ],
   "metadata": {
    "collapsed": false,
    "pycharm": {
     "name": "#%% md\n"
    }
   }
  },
  {
   "cell_type": "code",
   "execution_count": null,
   "outputs": [],
   "source": [
    "# Plot Result\n",
    "if not only_mpc:\n",
    "    print(u_optimal.reshape(-1, 3).shape)\n",
    "    print(tspan_optimize.shape)\n",
    "\n",
    "    u_optimal_mat = u_optimal.reshape(-1, 3)\n",
    "    s_init = ct.propagate_relative_from_control(state_init, u_initial, tspan_optimize, fd_relative_4T)\n",
    "\n",
    "    plt.plot(tspan_optimize, np.linalg.norm(u_initial.reshape(-1, 3), axis=1), label=\"u initial\")\n",
    "    plt.plot(tspan_optimize, np.linalg.norm(u_optimal_mat, axis=1), label=\"u optimal\")\n",
    "    plt.plot(tspan_optimize, np.linalg.norm(u_mat_rep, axis=1), label=\"u feasible\")\n",
    "    plt.xlabel(\"Time (s)\")\n",
    "    plt.ylabel(\"$||u||_2$\")\n",
    "    plt.legend()\n",
    "    plt.show()\n",
    "\n",
    "    dn.plot_relative_orbit(tspan_optimize, s_optimal[:, :-1].T)"
   ],
   "metadata": {
    "collapsed": false,
    "pycharm": {
     "name": "#%%\n"
    }
   }
  },
  {
   "cell_type": "code",
   "execution_count": null,
   "outputs": [],
   "source": [
    "if not only_mpc:\n",
    "    ct.plot_control_trajectory2(s_optimal, s_init)"
   ],
   "metadata": {
    "collapsed": false,
    "pycharm": {
     "name": "#%%\n"
    }
   }
  },
  {
   "cell_type": "markdown",
   "source": [
    "## Try MPC with Scipy Optimize"
   ],
   "metadata": {
    "collapsed": false,
    "pycharm": {
     "name": "#%% md\n"
    }
   }
  },
  {
   "cell_type": "code",
   "execution_count": null,
   "outputs": [],
   "source": [
    "## Test MPC\n",
    "P_outer = 1e10 * np.eye(6)                    # terminal state cost matrix\n",
    "Q_outer = 1e7 * np.eye(6)                    # state cost matrix\n",
    "rho_outer = 1.                               # trust region parameter\n",
    "u_max_outer = u_max                  # control effort bound\n",
    "tol = 5e-1                           # convergence tolerance\n",
    "max_iters = 10                       # maximum number of scipy optimize\n",
    "u_dim_outer = 3\n",
    "\n",
    "N_total_mpc = Nsteps\n",
    "t_last_mpc = N_total_mpc * dt\n",
    "N_horizon_mpc = 10\n",
    "\n",
    "t_mpc, s_mpc, u_mpc = ct.run_MPC_with_scipy_NN(state_init, t_last_mpc, N_horizon_mpc,\n",
    "                                                P_outer, Q_outer, u_max, rho_outer,\n",
    "                                                tol, max_iters, u_dim_outer, dt, fd_relative_4T,\n",
    "                                                fd_relative_4T_NN)\n"
   ],
   "metadata": {
    "collapsed": false,
    "pycharm": {
     "name": "#%%\n"
    }
   }
  },
  {
   "cell_type": "markdown",
   "source": [],
   "metadata": {
    "collapsed": false,
    "pycharm": {
     "name": "#%% md\n"
    }
   }
  },
  {
   "cell_type": "markdown",
   "source": [],
   "metadata": {
    "collapsed": false,
    "pycharm": {
     "name": "#%% md\n"
    }
   }
  },
  {
   "cell_type": "code",
   "execution_count": null,
   "outputs": [],
   "source": [
    "## Plot MPC Result\n",
    "ct.plot_mpc_control(t_mpc, s_mpc, u_mpc, u_max)"
   ],
   "metadata": {
    "collapsed": false,
    "pycharm": {
     "name": "#%%\n"
    }
   }
  },
  {
   "cell_type": "code",
   "execution_count": null,
   "outputs": [],
   "source": [
    "ct.plot_mpc_trajectory(s_mpc, N_total_mpc, N_horizon_mpc)"
   ],
   "metadata": {
    "collapsed": false,
    "pycharm": {
     "name": "#%%\n"
    }
   }
  }
 ],
 "metadata": {
  "kernelspec": {
   "name": "pycharm-7d4848dc",
   "language": "python",
   "display_name": "PyCharm (gecco-spoc)"
  },
  "language_info": {
   "codemirror_mode": {
    "name": "ipython",
    "version": 2
   },
   "file_extension": ".py",
   "mimetype": "text/x-python",
   "name": "python",
   "nbconvert_exporter": "python",
   "pygments_lexer": "ipython2",
   "version": "2.7.6"
  }
 },
 "nbformat": 4,
 "nbformat_minor": 0
}